{
 "cells": [
  {
   "cell_type": "markdown",
   "id": "d3bfc191-8885-42ee-b0a0-bbab867c6f9f",
   "metadata": {
    "tags": []
   },
   "source": [
    "# Lab | Flow Control"
   ]
  },
  {
   "cell_type": "markdown",
   "id": "3851fcd1-cf98-4653-9c89-e003b7ec9400",
   "metadata": {},
   "source": [
    "## Exercise: Managing Customer Orders Optimized\n",
    "\n",
    "In the last lab, you were starting an online store that sells various products. To ensure smooth operations, you developed a program that manages customer orders and inventory.\n",
    "\n",
    "You did so without using flow control. Let's go a step further and improve this code.\n",
    "\n",
    "Follow the steps below to complete the exercise:\n",
    "\n",
    "1. Look at your code from the lab data structures, and improve repeated code with loops.\n",
    "\n",
    "2. Instead of asking the user to input the name of three products that a customer wants to order, do the following:\n",
    "    \n",
    "    a. Prompt the user to enter the name of a product that a customer wants to order.\n",
    "    \n",
    "    b. Add the product name to the \"customer_orders\" set.\n",
    "    \n",
    "    c. Ask the user if they want to add another product (yes/no).\n",
    "    \n",
    "    d. Continue the loop until the user does not want to add another product.\n",
    "\n",
    "3. Instead of updating the inventory by subtracting 1 from the quantity of each product, only do it for  the products that were ordered (those in \"customer_orders\")."
   ]
  },
  {
   "cell_type": "code",
   "execution_count": 5,
   "id": "edc6780b",
   "metadata": {},
   "outputs": [
    {
     "name": "stdout",
     "output_type": "stream",
     "text": [
      "Please input the number of t-shirts: 5\n",
      "Please input the number of mugs: 5\n",
      "Please input the number of hats: 5\n",
      "Please input the number of books: 5\n",
      "Please input the number of keychains: 5\n"
     ]
    }
   ],
   "source": [
    "products = [\"t-shirt\", \"mug\", \"hat\", \"book\", \"keychain\"]\n",
    "\n",
    "inventory = {}\n",
    "\n",
    "customer_orders = []\n",
    "\n",
    "y_n= set()\n",
    "\n",
    "for product in products:\n",
    "    amount = int(input(f\"Please input the number of {product}s: \"))\n",
    "    inventory[product]= amount"
   ]
  },
  {
   "cell_type": "code",
   "execution_count": 9,
   "id": "08289e69",
   "metadata": {},
   "outputs": [
    {
     "name": "stdout",
     "output_type": "stream",
     "text": [
      "Name a product the customer would like to order: hat\n",
      "would you like to add another product? N for no and Y for yes:y\n",
      "Name a product the customer would like to order: t-shirt\n",
      "would you like to add another product? N for no and Y for yes:y\n",
      "Name a product the customer would like to order: mug\n",
      "would you like to add another product? N for no and Y for yes:n\n",
      "Thanks for your order!\n"
     ]
    }
   ],
   "source": [
    "order=input(\"Name a product the customer would like to order: \")\n",
    "customer_orders.append(order)\n",
    "y_n= input(\"would you like to add another product? N for no and Y for yes:\")\n",
    "\n",
    "while y_n == 'y' or y_n == 'Y':\n",
    "    order=input(\"Name a product the customer would like to order: \")\n",
    "    customer_orders.append(order)\n",
    "    y_n= input(\"would you like to add another product? N for no and Y for yes:\")\n",
    "else:\n",
    "    if y_n == 'n' or y_n == 'N':\n",
    "        print(\"Thanks for your order!\")\n",
    "    else:\n",
    "        print(\"I don't know what that means!\")"
   ]
  },
  {
   "cell_type": "code",
   "execution_count": 10,
   "id": "e01663cd",
   "metadata": {},
   "outputs": [
    {
     "name": "stdout",
     "output_type": "stream",
     "text": [
      "['hat', 't-shirt', 'hat', 't-shirt', 'hat', 't-shirt', 'mug']\n"
     ]
    }
   ],
   "source": [
    "print(customer_orders)"
   ]
  },
  {
   "cell_type": "code",
   "execution_count": 14,
   "id": "b78fd363",
   "metadata": {},
   "outputs": [
    {
     "name": "stdout",
     "output_type": "stream",
     "text": [
      "0 hat is not available\n",
      "0 t-shirt is not available\n",
      "0 hat is not available\n",
      "0 t-shirt is not available\n",
      "0 hat is not available\n",
      "0 t-shirt is not available\n"
     ]
    }
   ],
   "source": [
    "for product in customer_orders:\n",
    "    if product in inventory:\n",
    "        if inventory[product] > 0:\n",
    "            inventory[product] -= 1\n",
    "        else:\n",
    "            print(inventory[product],product,\"is not available\")\n",
    "    else:\n",
    "        print(\"We don't have that\")"
   ]
  },
  {
   "cell_type": "code",
   "execution_count": 15,
   "id": "934c3819",
   "metadata": {},
   "outputs": [
    {
     "name": "stdout",
     "output_type": "stream",
     "text": [
      "{'t-shirt': 0, 'mug': 2, 'hat': 0, 'book': 5, 'keychain': 5}\n"
     ]
    }
   ],
   "source": [
    "print(inventory)"
   ]
  }
 ],
 "metadata": {
  "kernelspec": {
   "display_name": "Python 3 (ipykernel)",
   "language": "python",
   "name": "python3"
  },
  "language_info": {
   "codemirror_mode": {
    "name": "ipython",
    "version": 3
   },
   "file_extension": ".py",
   "mimetype": "text/x-python",
   "name": "python",
   "nbconvert_exporter": "python",
   "pygments_lexer": "ipython3",
   "version": "3.11.7"
  }
 },
 "nbformat": 4,
 "nbformat_minor": 5
}
